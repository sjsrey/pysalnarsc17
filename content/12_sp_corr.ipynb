{
 "cells": [
  {
   "cell_type": "code",
   "execution_count": 1,
   "metadata": {},
   "outputs": [],
   "source": [
    "import pysal as ps\n",
    "import numpy as np\n",
    "import matplotlib.pyplot as plt\n",
    "from scipy.linalg import inv"
   ]
  },
  {
   "cell_type": "code",
   "execution_count": 2,
   "metadata": {},
   "outputs": [],
   "source": [
    "%matplotlib inline"
   ]
  },
  {
   "cell_type": "markdown",
   "metadata": {},
   "source": [
    "# Interactive spatial autocorrelation"
   ]
  },
  {
   "cell_type": "markdown",
   "metadata": {},
   "source": [
    "This notebook illustrates the concept of spatial autocorrelation using the new interactivity in IPython. The data generating process (DGP) considered here is the following:"
   ]
  },
  {
   "cell_type": "markdown",
   "metadata": {},
   "source": [
    "1. $u = \\lambda Wu + \\epsilon$\n",
    "\n",
    "1. $u - \\lambda Wu = \\epsilon$\n",
    "\n",
    "1. $u (I - \\lambda W) = \\epsilon$\n",
    "\n",
    "1. $u = (I - \\lambda W)^{-1} \\epsilon$"
   ]
  },
  {
   "cell_type": "markdown",
   "metadata": {},
   "source": [
    "Where `u` is a vector spatially autocorrelated, `W` is a spatial weights matrix as you could created with `PySAL`, and $\\epsilon$ is an i.i.d. random vector."
   ]
  },
  {
   "cell_type": "markdown",
   "metadata": {},
   "source": [
    "To implement the previous DGP, the simple method `draw_map` (actual code pasted at the bottom of the notebook, so make sure to run that cell beforehand) creates a random vector with degree of spatial autocorrelation $\\lambda$ and allocates it to a lattice geography, where every pixel is assumed to be an area with a value. Right next to it, the function also displays the Moran's scatter plot. Both map and plot depend on the $\\lambda$ parameter that controls the degree of spatial autocorrelation.\n",
    "\n",
    "Here's a static version of the function:"
   ]
  },
  {
   "cell_type": "code",
   "execution_count": 4,
   "metadata": {},
   "outputs": [
    {
     "data": {
      "image/png": "[encoded data removed]",
      "text/plain": [
       "<matplotlib.figure.Figure at 0x111034450>"
      ]
     },
     "metadata": {},
     "output_type": "display_data"
    }
   ],
   "source": [
    "draw_map(0.95)"
   ]
  },
  {
   "cell_type": "markdown",
   "metadata": {},
   "source": [
    "Now, we can make the $\\lambda$ value change in an interactive way:"
   ]
  },
  {
   "cell_type": "code",
   "execution_count": 22,
   "metadata": {},
   "outputs": [],
   "source": [
    "interact?"
   ]
  },
  {
   "cell_type": "code",
   "execution_count": 21,
   "metadata": {},
   "outputs": [
    {
     "data": {
      "application/vnd.jupyter.widget-view+json": {
       "model_id": "d8d03befe1d840c584d891eedf58d875",
       "version_major": 2,
       "version_minor": 0
      },
      "text/html": [
       "<p>Failed to display Jupyter Widget of type <code>interactive</code>.</p>\n",
       "<p>\n",
       "  If you're reading this message in Jupyter Notebook or JupyterLab, it may mean\n",
       "  that the widgets JavaScript is still loading. If this message persists, it\n",
       "  likely means that the widgets JavaScript library is either not installed or\n",
       "  not enabled. See the <a href=\"https://ipywidgets.readthedocs.io/en/stable/user_install.html\">Jupyter\n",
       "  Widgets Documentation</a> for setup instructions.\n",
       "</p>\n",
       "<p>\n",
       "  If you're reading this message in another notebook frontend (for example, a static\n",
       "  rendering on GitHub or <a href=\"https://nbviewer.jupyter.org/\">NBViewer</a>),\n",
       "  it may mean that your frontend doesn't currently support widgets.\n",
       "</p>\n"
      ],
      "text/plain": [
       "interactive(children=(FloatSlider(value=0.0, description=u'lamb', max=0.9, min=-0.9), Output()), _dom_classes=('widget-interact',))"
      ]
     },
     "metadata": {},
     "output_type": "display_data"
    },
    {
     "data": {
      "text/plain": [
       "<function __main__.draw_map>"
      ]
     },
     "execution_count": 21,
     "metadata": {},
     "output_type": "execute_result"
    }
   ],
   "source": [
    "from ipywidgets import interact\n",
    "interact(draw_map, lamb=(-0.9, 0.9))"
   ]
  },
  {
   "cell_type": "markdown",
   "metadata": {},
   "source": [
    "# Actual plotting function"
   ]
  },
  {
   "cell_type": "code",
   "execution_count": 20,
   "metadata": {},
   "outputs": [],
   "source": [
    "def draw_map(lamb):\n",
    "    s = 20\n",
    "    n = s**2\n",
    "    w = ps.lat2W(s, s, rook=False)\n",
    "    w.transform = 'R'\n",
    "    e = np.random.random((n, 1))\n",
    "    u = inv(np.eye(n) - lamb * w.full()[0])\n",
    "    u = np.dot(u, e)\n",
    "    ul = ps.lag_spatial(w, u)\n",
    "    u = (u - u.mean()) / np.std(u)\n",
    "    ul = (ul - ul.mean()) / np.std(ul)\n",
    "    gu = u.reshape((s, s))\n",
    "    # Figure\n",
    "    f = plt.figure(figsize=(9, 4))\n",
    "    ax1 = f.add_subplot(121)\n",
    "    ax1.matshow(gu, cmap=plt.cm.YlGn)\n",
    "    ax1.set_frame_on(False)\n",
    "    ax1.axes.get_xaxis().set_visible(False)\n",
    "    ax1.axes.get_yaxis().set_visible(False)\n",
    "    #---\n",
    "    ax2 = f.add_subplot(122)\n",
    "    sc = ax2.scatter(u, ul, linewidth=0)\n",
    "    #ols = ps.spreg.GM_Lag(u,np.ones(len(u)),w=w)\n",
    "    ols = ps.spreg.OLS(ul, u)\n",
    "    tag = \"b = %.3f\"%ols.betas[1][0]\n",
    "    #tag = \"b = %.3f\"%ols.rho[0]\n",
    "    ax2.plot(u, ols.predy, c='red', label=tag)\n",
    "    ax2.axvline(0, c='0.5')\n",
    "    ax2.axhline(0, c='0.5')\n",
    "    ax2.legend()\n",
    "    plt.xlabel('u')\n",
    "    plt.ylabel('Wu')\n",
    "    plt.suptitle(\"$\\lambda$ = %.2f\"%lamb)\n",
    "    plt.show()"
   ]
  },
  {
   "cell_type": "code",
   "execution_count": null,
   "metadata": {},
   "outputs": [],
   "source": []
  }
 ],
 "metadata": {
  "anaconda-cloud": {},
  "kernelspec": {
   "display_name": "Python 2",
   "language": "python",
   "name": "python2"
  },
  "language_info": {
   "codemirror_mode": {
    "name": "ipython",
    "version": 2
   },
   "file_extension": ".py",
   "mimetype": "text/x-python",
   "name": "python",
   "nbconvert_exporter": "python",
   "pygments_lexer": "ipython2",
   "version": "2.7.14"
  }
 },
 "nbformat": 4,
 "nbformat_minor": 1
}
